{
 "cells": [
  {
   "cell_type": "code",
   "execution_count": 366,
   "id": "33042fc1",
   "metadata": {},
   "outputs": [],
   "source": [
    "import pandas as pd\n",
    "import numpy as np"
   ]
  },
  {
   "cell_type": "code",
   "execution_count": 367,
   "id": "fffb5719",
   "metadata": {},
   "outputs": [],
   "source": [
    "df = pd.read_csv(\"marks.csv\")\n",
    "marks_df = pd.read_csv(\"sem.csv\")\n",
    "final_df = pd.read_csv(\"final.csv\")"
   ]
  },
  {
   "cell_type": "code",
   "execution_count": 368,
   "id": "860020ee",
   "metadata": {},
   "outputs": [],
   "source": [
    "df = df.drop(['PRN No.'], axis=1)\n",
    "df = df.fillna(0)\n",
    "df = df.replace(\"RR\", 0)\n",
    "df.drop(df.columns[df.columns.str.contains('Grace')], axis=1, inplace=True)\n",
    "df.drop(df.columns[df.columns.str.contains('Condol')], axis=1, inplace=True)\n",
    "df.drop(df.columns[df.columns.str.contains('Cat1')], axis=1, inplace=True)\n",
    "df.drop(df.columns[df.columns.str.contains('Cat2')], axis=1, inplace=True)\n",
    "df.drop(df.columns[df.columns.str.contains('Fat')], axis=1, inplace=True)\n",
    "df.drop(df.columns[df.columns.str.contains('FAT')], axis=1, inplace=True)\n",
    "df.drop(df.columns[df.columns.str.contains('Lab')], axis=1, inplace=True)\n",
    "df = df.applymap(lambda x: int(x) if isinstance(x, str) and x.isdigit() else x)\n",
    "final_df = final_df.iloc[:-3]\n",
    "df = df.loc[(df.applymap(type) != str).all(axis=1)]"
   ]
  },
  {
   "cell_type": "code",
   "execution_count": 369,
   "id": "ae5fc257",
   "metadata": {},
   "outputs": [],
   "source": [
    "#scaling the data\n",
    "from sklearn.preprocessing import MinMaxScaler\n",
    "scaler = MinMaxScaler(feature_range=(0,1))\n",
    "df = scaler.fit_transform(df)\n",
    "marks_df = scaler.fit_transform(marks_df)"
   ]
  },
  {
   "cell_type": "code",
   "execution_count": 370,
   "id": "e2204158",
   "metadata": {},
   "outputs": [],
   "source": [
    "from sklearn.model_selection import train_test_split\n",
    "from sklearn.metrics import classification_report, confusion_matrix\n",
    "# train test split\n",
    "X = df\n",
    "y = final_df[' Grade ']\n",
    "X_train, X_test, y_train, y_test = train_test_split(X, y, test_size=0.4, random_state=42)\n"
   ]
  },
  {
   "cell_type": "code",
   "execution_count": 371,
   "id": "cb31c5c5",
   "metadata": {},
   "outputs": [],
   "source": [
    "from sklearn.metrics import accuracy_score\n",
    "from sklearn.metrics import matthews_corrcoef\n",
    "from sklearn.metrics import f1_score"
   ]
  },
  {
   "cell_type": "markdown",
   "id": "cc5415aa",
   "metadata": {},
   "source": [
    "### Random Forest"
   ]
  },
  {
   "cell_type": "code",
   "execution_count": 372,
   "id": "c54adda9",
   "metadata": {},
   "outputs": [
    {
     "name": "stdout",
     "output_type": "stream",
     "text": [
      "- Accuracy: 0.7052631578947368\n",
      "- MCC: 0.3710946939115025\n",
      "- F1 score: 0.6965789473684212\n"
     ]
    }
   ],
   "source": [
    "from sklearn.ensemble import RandomForestClassifier\n",
    "\n",
    "rf = RandomForestClassifier(n_estimators=300, random_state=42)\n",
    "rf.fit(X_train, y_train)\n",
    "y_pred = rf.predict(X_test)\n",
    "\n",
    "#evaluation\n",
    "rf_acc = accuracy_score(y_test, y_pred)\n",
    "rf_mcc = matthews_corrcoef(y_test, y_pred)\n",
    "rf_f1 = f1_score(y_test, y_pred, average='weighted')\n",
    "print('- Accuracy: %s' % rf_acc)\n",
    "print('- MCC: %s' % rf_mcc)\n",
    "print('- F1 score: %s' % rf_f1)"
   ]
  },
  {
   "cell_type": "markdown",
   "id": "4d792f81",
   "metadata": {},
   "source": [
    "### mlp"
   ]
  },
  {
   "cell_type": "code",
   "execution_count": 381,
   "id": "270a8201",
   "metadata": {},
   "outputs": [
    {
     "name": "stdout",
     "output_type": "stream",
     "text": [
      "- Accuracy: 0.631578947368421\n",
      "- MCC: 0.1926478344075154\n",
      "- F1 score: 0.6184137002726029\n"
     ]
    }
   ],
   "source": [
    "from sklearn.neural_network import MLPClassifier\n",
    "\n",
    "mlp = MLPClassifier(hidden_layer_sizes=(200, 50), activation='relu', solver='adam', max_iter=2500)\n",
    "mlp.fit(X_train, y_train)\n",
    "y_pred = mlp.predict(X_test)\n",
    "\n",
    "#evaluation\n",
    "mlp_acc = accuracy_score(y_test, y_pred)\n",
    "mlp_mcc = matthews_corrcoef(y_test, y_pred)\n",
    "mlp_f1 = f1_score(y_test, y_pred, average='weighted')\n",
    "print('- Accuracy: %s' % mlp_acc)\n",
    "print('- MCC: %s' % mlp_mcc)\n",
    "print('- F1 score: %s' % mlp_f1)"
   ]
  },
  {
   "cell_type": "markdown",
   "id": "42ac1344",
   "metadata": {},
   "source": [
    "### knn"
   ]
  },
  {
   "cell_type": "code",
   "execution_count": 352,
   "id": "5d235f2f",
   "metadata": {},
   "outputs": [
    {
     "name": "stdout",
     "output_type": "stream",
     "text": [
      "- Accuracy: 0.7473684210526316\n",
      "- MCC: 0.39181039716376265\n",
      "- F1 score: 0.7096922281132807\n"
     ]
    },
    {
     "name": "stderr",
     "output_type": "stream",
     "text": [
      "C:\\Users\\shiny\\anaconda3\\lib\\site-packages\\sklearn\\neighbors\\_classification.py:228: FutureWarning: Unlike other reduction functions (e.g. `skew`, `kurtosis`), the default behavior of `mode` typically preserves the axis it acts along. In SciPy 1.11.0, this behavior will change: the default value of `keepdims` will become False, the `axis` over which the statistic is taken will be eliminated, and the value None will no longer be accepted. Set `keepdims` to True or False to avoid this warning.\n",
      "  mode, _ = stats.mode(_y[neigh_ind, k], axis=1)\n"
     ]
    }
   ],
   "source": [
    "from sklearn.neighbors import KNeighborsClassifier\n",
    "\n",
    "knn = KNeighborsClassifier(n_neighbors=14)\n",
    "knn.fit(X_train, y_train)\n",
    "y_pred = knn.predict(X_test)\n",
    "\n",
    "#evaluation\n",
    "knn_acc = accuracy_score(y_test, y_pred)\n",
    "knn_mcc = matthews_corrcoef(y_test, y_pred)\n",
    "knn_f1 = f1_score(y_test, y_pred, average='weighted')\n",
    "print('- Accuracy: %s' % knn_acc)\n",
    "print('- MCC: %s' % knn_mcc)\n",
    "print('- F1 score: %s' % knn_f1)"
   ]
  },
  {
   "cell_type": "markdown",
   "id": "141e4e19",
   "metadata": {},
   "source": [
    "### xgboost"
   ]
  },
  {
   "cell_type": "code",
   "execution_count": 382,
   "id": "a88817bf",
   "metadata": {},
   "outputs": [
    {
     "name": "stdout",
     "output_type": "stream",
     "text": [
      "- Accuracy: 0.6842105263157895\n",
      "- MCC: 0.35602038805778663\n",
      "- F1 Score: 0.6806657669815565\n"
     ]
    }
   ],
   "source": [
    "from xgboost import XGBClassifier\n",
    "from sklearn.preprocessing import LabelEncoder\n",
    "\n",
    "# train the XGBoost model\n",
    "xgb = XGBClassifier()\n",
    "xgb.fit(X_train, y_train)\n",
    "\n",
    "# make predictions on the testing set\n",
    "y_pred = xgb.predict(X_test)\n",
    "\n",
    "# calculate evaluation metrics\n",
    "xgb_acc = accuracy_score(y_test, y_pred)\n",
    "xgb_mcc = matthews_corrcoef(y_test, y_pred)\n",
    "xgb_f1 = f1_score(y_test, y_pred, average='weighted')\n",
    "print('- Accuracy:', xgb_acc)\n",
    "print('- MCC:', xgb_mcc)\n",
    "print('- F1 Score:', xgb_f1)\n"
   ]
  },
  {
   "cell_type": "markdown",
   "id": "28eeba2a",
   "metadata": {},
   "source": [
    "### Hybrid Model"
   ]
  },
  {
   "cell_type": "code",
   "execution_count": 387,
   "id": "11a1c5fe",
   "metadata": {},
   "outputs": [],
   "source": [
    "from sklearn.model_selection import train_test_split\n",
    "from sklearn.metrics import classification_report, confusion_matrix\n",
    "# train test split\n",
    "X = df\n",
    "y = final_df[' Grade ']\n",
    "X_train, X_test, y_train, y_test = train_test_split(X, y, test_size=0.35, random_state=42)"
   ]
  },
  {
   "cell_type": "code",
   "execution_count": 389,
   "id": "780f7fe4",
   "metadata": {},
   "outputs": [
    {
     "name": "stderr",
     "output_type": "stream",
     "text": [
      "C:\\Users\\shiny\\anaconda3\\lib\\site-packages\\sklearn\\model_selection\\_split.py:676: UserWarning: The least populated class in y has only 3 members, which is less than n_splits=5.\n",
      "  warnings.warn(\n",
      "C:\\Users\\shiny\\anaconda3\\lib\\site-packages\\sklearn\\model_selection\\_split.py:676: UserWarning: The least populated class in y has only 3 members, which is less than n_splits=5.\n",
      "  warnings.warn(\n",
      "C:\\Users\\shiny\\anaconda3\\lib\\site-packages\\sklearn\\model_selection\\_split.py:676: UserWarning: The least populated class in y has only 3 members, which is less than n_splits=5.\n",
      "  warnings.warn(\n",
      "C:\\Users\\shiny\\anaconda3\\lib\\site-packages\\sklearn\\model_selection\\_split.py:676: UserWarning: The least populated class in y has only 3 members, which is less than n_splits=5.\n",
      "  warnings.warn(\n"
     ]
    },
    {
     "name": "stdout",
     "output_type": "stream",
     "text": [
      "- Accuracy: 0.9090909090909091\n",
      "- MCC: 0.8152338451604736\n",
      "- F1 score: 0.8973218733294092\n"
     ]
    }
   ],
   "source": [
    "#stacking\n",
    "from sklearn.ensemble import StackingClassifier\n",
    "from sklearn.linear_model import LogisticRegression\n",
    "\n",
    "models = [xgb,knn,rf,mlp]\n",
    "\n",
    "estimator_list = [\n",
    "    ('xgb',xgb),\n",
    "    ('knn',knn),\n",
    "    ('rf',rf),\n",
    "    ('mlp',mlp) ]\n",
    "\n",
    "stack_model = StackingClassifier(estimators=estimator_list, final_estimator=None)\n",
    "\n",
    "stack_model.fit(X_train, y_train)\n",
    "y_pred = stack_model.predict(X_train)\n",
    "\n",
    "stack_acc = accuracy_score(y_train, y_pred) \n",
    "stack_mcc = matthews_corrcoef(y_train, y_pred) \n",
    "stack_f1 = f1_score(y_train, y_pred, average='weighted') \n",
    "\n",
    "print('- Accuracy: %s' % stack_acc)\n",
    "print('- MCC: %s' % stack_mcc)\n",
    "print('- F1 score: %s' % stack_f1)\n",
    "     "
   ]
  },
  {
   "cell_type": "markdown",
   "id": "f5853307",
   "metadata": {},
   "source": [
    "### comparitives"
   ]
  },
  {
   "cell_type": "code",
   "execution_count": 390,
   "id": "af52a7a6",
   "metadata": {},
   "outputs": [],
   "source": [
    "acc_train_list = {'knn':knn_acc,\n",
    "'xgb': xgb_acc,\n",
    "'rf': rf_acc,\n",
    "'mlp': mlp_acc,\n",
    "'stack': stack_acc}\n",
    "\n",
    "mcc_train_list = {'knn':knn_mcc,\n",
    "'xgb': xgb_mcc,\n",
    "'rf': rf_mcc,\n",
    "'mlp': mlp_mcc,\n",
    "'stack': stack_mcc}\n",
    "\n",
    "f1_train_list = {'knn':knn_f1,\n",
    "'xgb': xgb_f1,\n",
    "'rf': rf_f1,\n",
    "'mlp': mlp_f1,\n",
    "'stack': stack_f1}\n",
    "     "
   ]
  },
  {
   "cell_type": "code",
   "execution_count": 391,
   "id": "e1f45968",
   "metadata": {},
   "outputs": [
    {
     "data": {
      "text/html": [
       "<div>\n",
       "<style scoped>\n",
       "    .dataframe tbody tr th:only-of-type {\n",
       "        vertical-align: middle;\n",
       "    }\n",
       "\n",
       "    .dataframe tbody tr th {\n",
       "        vertical-align: top;\n",
       "    }\n",
       "\n",
       "    .dataframe thead th {\n",
       "        text-align: right;\n",
       "    }\n",
       "</style>\n",
       "<table border=\"1\" class=\"dataframe\">\n",
       "  <thead>\n",
       "    <tr style=\"text-align: right;\">\n",
       "      <th></th>\n",
       "      <th>Accuracy</th>\n",
       "      <th>MCC</th>\n",
       "      <th>F1</th>\n",
       "    </tr>\n",
       "  </thead>\n",
       "  <tbody>\n",
       "    <tr>\n",
       "      <th>knn</th>\n",
       "      <td>0.747368</td>\n",
       "      <td>0.391810</td>\n",
       "      <td>0.709692</td>\n",
       "    </tr>\n",
       "    <tr>\n",
       "      <th>xgb</th>\n",
       "      <td>0.684211</td>\n",
       "      <td>0.356020</td>\n",
       "      <td>0.680666</td>\n",
       "    </tr>\n",
       "    <tr>\n",
       "      <th>rf</th>\n",
       "      <td>0.705263</td>\n",
       "      <td>0.371095</td>\n",
       "      <td>0.696579</td>\n",
       "    </tr>\n",
       "    <tr>\n",
       "      <th>mlp</th>\n",
       "      <td>0.631579</td>\n",
       "      <td>0.192648</td>\n",
       "      <td>0.618414</td>\n",
       "    </tr>\n",
       "    <tr>\n",
       "      <th>stack</th>\n",
       "      <td>0.909091</td>\n",
       "      <td>0.815234</td>\n",
       "      <td>0.897322</td>\n",
       "    </tr>\n",
       "  </tbody>\n",
       "</table>\n",
       "</div>"
      ],
      "text/plain": [
       "       Accuracy       MCC        F1\n",
       "knn    0.747368  0.391810  0.709692\n",
       "xgb    0.684211  0.356020  0.680666\n",
       "rf     0.705263  0.371095  0.696579\n",
       "mlp    0.631579  0.192648  0.618414\n",
       "stack  0.909091  0.815234  0.897322"
      ]
     },
     "execution_count": 391,
     "metadata": {},
     "output_type": "execute_result"
    }
   ],
   "source": [
    "acc_df = pd.DataFrame.from_dict(acc_train_list, orient='index', columns=['Accuracy'])\n",
    "mcc_df = pd.DataFrame.from_dict(mcc_train_list, orient='index', columns=['MCC'])\n",
    "f1_df = pd.DataFrame.from_dict(f1_train_list, orient='index', columns=['F1'])\n",
    "res = pd.concat([acc_df, mcc_df, f1_df], axis=1)\n",
    "res"
   ]
  },
  {
   "cell_type": "markdown",
   "id": "86ca8e68",
   "metadata": {},
   "source": [
    "### predicting for new tuples"
   ]
  },
  {
   "cell_type": "code",
   "execution_count": 392,
   "id": "4f6a53c2",
   "metadata": {},
   "outputs": [
    {
     "data": {
      "text/html": [
       "<div>\n",
       "<style scoped>\n",
       "    .dataframe tbody tr th:only-of-type {\n",
       "        vertical-align: middle;\n",
       "    }\n",
       "\n",
       "    .dataframe tbody tr th {\n",
       "        vertical-align: top;\n",
       "    }\n",
       "\n",
       "    .dataframe thead th {\n",
       "        text-align: right;\n",
       "    }\n",
       "</style>\n",
       "<table border=\"1\" class=\"dataframe\">\n",
       "  <thead>\n",
       "    <tr style=\"text-align: right;\">\n",
       "      <th></th>\n",
       "      <th>DSA(CSE2001) CAT1 (50)</th>\n",
       "      <th>DSA(CSE2001) CAT2 (50)</th>\n",
       "      <th>DSA(CSE2001)Grade</th>\n",
       "      <th>DMS(MAT1003) CAT1 (50)</th>\n",
       "      <th>DMS(MAT1003)CAT2 (50)</th>\n",
       "      <th>FEEE(ECE1002)CAT1 (50)</th>\n",
       "      <th>FEEE(ECE1002) CAT2 (50)</th>\n",
       "      <th>FEEE(ECE1002) Total (200)</th>\n",
       "      <th>FEEE(ECE1002)Grade</th>\n",
       "      <th>ED(MEC1004) CAT1 (50)</th>\n",
       "      <th>...</th>\n",
       "      <th>ITC(CSE2013) CAT2 (50)</th>\n",
       "      <th>ITC(CSE2013) Total (200)</th>\n",
       "      <th>ITC(CSE2013) Grade</th>\n",
       "      <th>COA(ECE2002) Grade</th>\n",
       "      <th>SNA(CSE4008)  CAT1 (50)</th>\n",
       "      <th>SNA(CSE4008) CAT2 (50)</th>\n",
       "      <th>SNA(CSE4008) Total (160)</th>\n",
       "      <th>SNA(CSE4008) Grade</th>\n",
       "      <th>FOM(MGT1003) CAT1 (50)</th>\n",
       "      <th>FOM(MGT1003) CAT2 (50)</th>\n",
       "    </tr>\n",
       "  </thead>\n",
       "  <tbody>\n",
       "    <tr>\n",
       "      <th>0</th>\n",
       "      <td>33</td>\n",
       "      <td>30</td>\n",
       "      <td>4</td>\n",
       "      <td>44</td>\n",
       "      <td>29</td>\n",
       "      <td>49</td>\n",
       "      <td>30</td>\n",
       "      <td>151</td>\n",
       "      <td>6</td>\n",
       "      <td>40</td>\n",
       "      <td>...</td>\n",
       "      <td>29</td>\n",
       "      <td>170</td>\n",
       "      <td>6</td>\n",
       "      <td>6</td>\n",
       "      <td>70</td>\n",
       "      <td>29</td>\n",
       "      <td>123</td>\n",
       "      <td>6</td>\n",
       "      <td>49</td>\n",
       "      <td>29</td>\n",
       "    </tr>\n",
       "    <tr>\n",
       "      <th>1</th>\n",
       "      <td>33</td>\n",
       "      <td>21</td>\n",
       "      <td>3</td>\n",
       "      <td>45</td>\n",
       "      <td>27</td>\n",
       "      <td>35</td>\n",
       "      <td>24</td>\n",
       "      <td>117</td>\n",
       "      <td>4</td>\n",
       "      <td>40</td>\n",
       "      <td>...</td>\n",
       "      <td>27</td>\n",
       "      <td>156</td>\n",
       "      <td>6</td>\n",
       "      <td>6</td>\n",
       "      <td>70</td>\n",
       "      <td>26</td>\n",
       "      <td>119</td>\n",
       "      <td>6</td>\n",
       "      <td>70</td>\n",
       "      <td>27</td>\n",
       "    </tr>\n",
       "    <tr>\n",
       "      <th>2</th>\n",
       "      <td>34</td>\n",
       "      <td>20</td>\n",
       "      <td>4</td>\n",
       "      <td>41</td>\n",
       "      <td>27</td>\n",
       "      <td>37</td>\n",
       "      <td>16</td>\n",
       "      <td>100</td>\n",
       "      <td>3</td>\n",
       "      <td>39</td>\n",
       "      <td>...</td>\n",
       "      <td>28</td>\n",
       "      <td>168</td>\n",
       "      <td>6</td>\n",
       "      <td>6</td>\n",
       "      <td>70</td>\n",
       "      <td>28</td>\n",
       "      <td>121</td>\n",
       "      <td>6</td>\n",
       "      <td>42</td>\n",
       "      <td>28</td>\n",
       "    </tr>\n",
       "    <tr>\n",
       "      <th>3</th>\n",
       "      <td>42</td>\n",
       "      <td>23</td>\n",
       "      <td>4</td>\n",
       "      <td>36</td>\n",
       "      <td>18</td>\n",
       "      <td>0</td>\n",
       "      <td>23</td>\n",
       "      <td>0</td>\n",
       "      <td>1</td>\n",
       "      <td>44</td>\n",
       "      <td>...</td>\n",
       "      <td>24</td>\n",
       "      <td>156</td>\n",
       "      <td>6</td>\n",
       "      <td>6</td>\n",
       "      <td>70</td>\n",
       "      <td>24</td>\n",
       "      <td>116</td>\n",
       "      <td>6</td>\n",
       "      <td>70</td>\n",
       "      <td>24</td>\n",
       "    </tr>\n",
       "    <tr>\n",
       "      <th>4</th>\n",
       "      <td>31</td>\n",
       "      <td>29</td>\n",
       "      <td>4</td>\n",
       "      <td>32</td>\n",
       "      <td>20</td>\n",
       "      <td>12</td>\n",
       "      <td>19</td>\n",
       "      <td>84</td>\n",
       "      <td>1</td>\n",
       "      <td>30</td>\n",
       "      <td>...</td>\n",
       "      <td>28</td>\n",
       "      <td>163</td>\n",
       "      <td>6</td>\n",
       "      <td>6</td>\n",
       "      <td>70</td>\n",
       "      <td>28</td>\n",
       "      <td>120</td>\n",
       "      <td>6</td>\n",
       "      <td>46</td>\n",
       "      <td>29</td>\n",
       "    </tr>\n",
       "  </tbody>\n",
       "</table>\n",
       "<p>5 rows × 110 columns</p>\n",
       "</div>"
      ],
      "text/plain": [
       "   DSA(CSE2001) CAT1 (50)  DSA(CSE2001) CAT2 (50)  DSA(CSE2001)Grade  \\\n",
       "0                      33                      30                  4   \n",
       "1                      33                      21                  3   \n",
       "2                      34                      20                  4   \n",
       "3                      42                      23                  4   \n",
       "4                      31                      29                  4   \n",
       "\n",
       "   DMS(MAT1003) CAT1 (50)  DMS(MAT1003)CAT2 (50)  FEEE(ECE1002)CAT1 (50)  \\\n",
       "0                      44                     29                      49   \n",
       "1                      45                     27                      35   \n",
       "2                      41                     27                      37   \n",
       "3                      36                     18                       0   \n",
       "4                      32                     20                      12   \n",
       "\n",
       "   FEEE(ECE1002) CAT2 (50)  FEEE(ECE1002) Total (200)  FEEE(ECE1002)Grade  \\\n",
       "0                       30                        151                   6   \n",
       "1                       24                        117                   4   \n",
       "2                       16                        100                   3   \n",
       "3                       23                          0                   1   \n",
       "4                       19                         84                   1   \n",
       "\n",
       "   ED(MEC1004) CAT1 (50)  ...  ITC(CSE2013) CAT2 (50)  \\\n",
       "0                     40  ...                      29   \n",
       "1                     40  ...                      27   \n",
       "2                     39  ...                      28   \n",
       "3                     44  ...                      24   \n",
       "4                     30  ...                      28   \n",
       "\n",
       "   ITC(CSE2013) Total (200)  ITC(CSE2013) Grade  COA(ECE2002) Grade  \\\n",
       "0                       170                   6                   6   \n",
       "1                       156                   6                   6   \n",
       "2                       168                   6                   6   \n",
       "3                       156                   6                   6   \n",
       "4                       163                   6                   6   \n",
       "\n",
       "   SNA(CSE4008)  CAT1 (50)  SNA(CSE4008) CAT2 (50)  SNA(CSE4008) Total (160)  \\\n",
       "0                       70                      29                       123   \n",
       "1                       70                      26                       119   \n",
       "2                       70                      28                       121   \n",
       "3                       70                      24                       116   \n",
       "4                       70                      28                       120   \n",
       "\n",
       "   SNA(CSE4008) Grade  FOM(MGT1003) CAT1 (50)  FOM(MGT1003) CAT2 (50)  \n",
       "0                   6                      49                      29  \n",
       "1                   6                      70                      27  \n",
       "2                   6                      42                      28  \n",
       "3                   6                      70                      24  \n",
       "4                   6                      46                      29  \n",
       "\n",
       "[5 rows x 110 columns]"
      ]
     },
     "execution_count": 392,
     "metadata": {},
     "output_type": "execute_result"
    }
   ],
   "source": [
    "X = pd.read_csv(\"X_new.csv\")\n",
    "X"
   ]
  },
  {
   "cell_type": "code",
   "execution_count": 393,
   "id": "a86414ed",
   "metadata": {},
   "outputs": [
    {
     "data": {
      "text/html": [
       "<div>\n",
       "<style scoped>\n",
       "    .dataframe tbody tr th:only-of-type {\n",
       "        vertical-align: middle;\n",
       "    }\n",
       "\n",
       "    .dataframe tbody tr th {\n",
       "        vertical-align: top;\n",
       "    }\n",
       "\n",
       "    .dataframe thead th {\n",
       "        text-align: right;\n",
       "    }\n",
       "</style>\n",
       "<table border=\"1\" class=\"dataframe\">\n",
       "  <thead>\n",
       "    <tr style=\"text-align: right;\">\n",
       "      <th></th>\n",
       "      <th>encoded</th>\n",
       "      <th>label_decoded</th>\n",
       "    </tr>\n",
       "  </thead>\n",
       "  <tbody>\n",
       "    <tr>\n",
       "      <th>0</th>\n",
       "      <td>5</td>\n",
       "      <td>A</td>\n",
       "    </tr>\n",
       "    <tr>\n",
       "      <th>1</th>\n",
       "      <td>5</td>\n",
       "      <td>A</td>\n",
       "    </tr>\n",
       "    <tr>\n",
       "      <th>2</th>\n",
       "      <td>4</td>\n",
       "      <td>B</td>\n",
       "    </tr>\n",
       "    <tr>\n",
       "      <th>3</th>\n",
       "      <td>4</td>\n",
       "      <td>B</td>\n",
       "    </tr>\n",
       "    <tr>\n",
       "      <th>4</th>\n",
       "      <td>4</td>\n",
       "      <td>B</td>\n",
       "    </tr>\n",
       "  </tbody>\n",
       "</table>\n",
       "</div>"
      ],
      "text/plain": [
       "   encoded label_decoded\n",
       "0        5             A\n",
       "1        5             A\n",
       "2        4             B\n",
       "3        4             B\n",
       "4        4             B"
      ]
     },
     "execution_count": 393,
     "metadata": {},
     "output_type": "execute_result"
    }
   ],
   "source": [
    "X_new = scaler.fit_transform(X)\n",
    "y_new_pred = stack_model.predict(X_new)\n",
    "y_new_pred = pd.DataFrame(y_new_pred, columns=['encoded'])\n",
    "mapping = {1:'F', 2:'D', 3:'C', 4:'B', 5:'A', 6:'S'}\n",
    "y_new_pred['label_decoded'] = y_new_pred['encoded'].map(mapping)\n",
    "y_new_pred"
   ]
  },
  {
   "cell_type": "code",
   "execution_count": 394,
   "id": "a637c531",
   "metadata": {},
   "outputs": [
    {
     "name": "stderr",
     "output_type": "stream",
     "text": [
      "C:\\Users\\shiny\\anaconda3\\lib\\site-packages\\sklearn\\neighbors\\_classification.py:228: FutureWarning: Unlike other reduction functions (e.g. `skew`, `kurtosis`), the default behavior of `mode` typically preserves the axis it acts along. In SciPy 1.11.0, this behavior will change: the default value of `keepdims` will become False, the `axis` over which the statistic is taken will be eliminated, and the value None will no longer be accepted. Set `keepdims` to True or False to avoid this warning.\n",
      "  mode, _ = stats.mode(_y[neigh_ind, k], axis=1)\n"
     ]
    },
    {
     "data": {
      "text/html": [
       "<div>\n",
       "<style scoped>\n",
       "    .dataframe tbody tr th:only-of-type {\n",
       "        vertical-align: middle;\n",
       "    }\n",
       "\n",
       "    .dataframe tbody tr th {\n",
       "        vertical-align: top;\n",
       "    }\n",
       "\n",
       "    .dataframe thead th {\n",
       "        text-align: right;\n",
       "    }\n",
       "</style>\n",
       "<table border=\"1\" class=\"dataframe\">\n",
       "  <thead>\n",
       "    <tr style=\"text-align: right;\">\n",
       "      <th></th>\n",
       "      <th>encoded</th>\n",
       "      <th>label_decoded</th>\n",
       "    </tr>\n",
       "  </thead>\n",
       "  <tbody>\n",
       "    <tr>\n",
       "      <th>0</th>\n",
       "      <td>5</td>\n",
       "      <td>A</td>\n",
       "    </tr>\n",
       "    <tr>\n",
       "      <th>1</th>\n",
       "      <td>5</td>\n",
       "      <td>A</td>\n",
       "    </tr>\n",
       "    <tr>\n",
       "      <th>2</th>\n",
       "      <td>4</td>\n",
       "      <td>B</td>\n",
       "    </tr>\n",
       "    <tr>\n",
       "      <th>3</th>\n",
       "      <td>4</td>\n",
       "      <td>B</td>\n",
       "    </tr>\n",
       "    <tr>\n",
       "      <th>4</th>\n",
       "      <td>4</td>\n",
       "      <td>B</td>\n",
       "    </tr>\n",
       "  </tbody>\n",
       "</table>\n",
       "</div>"
      ],
      "text/plain": [
       "   encoded label_decoded\n",
       "0        5             A\n",
       "1        5             A\n",
       "2        4             B\n",
       "3        4             B\n",
       "4        4             B"
      ]
     },
     "execution_count": 394,
     "metadata": {},
     "output_type": "execute_result"
    }
   ],
   "source": [
    "y_new_pred = knn.predict(X_new)\n",
    "y_new_pred = pd.DataFrame(y_new_pred, columns=['encoded'])\n",
    "mapping = {1:'F', 2:'D', 3:'C', 4:'B', 5:'A', 6:'S'}\n",
    "y_new_pred['label_decoded'] = y_new_pred['encoded'].map(mapping)\n",
    "y_new_pred"
   ]
  },
  {
   "cell_type": "code",
   "execution_count": 395,
   "id": "39b0729d",
   "metadata": {},
   "outputs": [
    {
     "data": {
      "text/html": [
       "<div>\n",
       "<style scoped>\n",
       "    .dataframe tbody tr th:only-of-type {\n",
       "        vertical-align: middle;\n",
       "    }\n",
       "\n",
       "    .dataframe tbody tr th {\n",
       "        vertical-align: top;\n",
       "    }\n",
       "\n",
       "    .dataframe thead th {\n",
       "        text-align: right;\n",
       "    }\n",
       "</style>\n",
       "<table border=\"1\" class=\"dataframe\">\n",
       "  <thead>\n",
       "    <tr style=\"text-align: right;\">\n",
       "      <th></th>\n",
       "      <th>encoded</th>\n",
       "      <th>label_decoded</th>\n",
       "    </tr>\n",
       "  </thead>\n",
       "  <tbody>\n",
       "    <tr>\n",
       "      <th>0</th>\n",
       "      <td>6</td>\n",
       "      <td>S</td>\n",
       "    </tr>\n",
       "    <tr>\n",
       "      <th>1</th>\n",
       "      <td>5</td>\n",
       "      <td>A</td>\n",
       "    </tr>\n",
       "    <tr>\n",
       "      <th>2</th>\n",
       "      <td>4</td>\n",
       "      <td>B</td>\n",
       "    </tr>\n",
       "    <tr>\n",
       "      <th>3</th>\n",
       "      <td>4</td>\n",
       "      <td>B</td>\n",
       "    </tr>\n",
       "    <tr>\n",
       "      <th>4</th>\n",
       "      <td>4</td>\n",
       "      <td>B</td>\n",
       "    </tr>\n",
       "  </tbody>\n",
       "</table>\n",
       "</div>"
      ],
      "text/plain": [
       "   encoded label_decoded\n",
       "0        6             S\n",
       "1        5             A\n",
       "2        4             B\n",
       "3        4             B\n",
       "4        4             B"
      ]
     },
     "execution_count": 395,
     "metadata": {},
     "output_type": "execute_result"
    }
   ],
   "source": [
    "y_new_pred = xgb.predict(X_new)\n",
    "y_new_pred = pd.DataFrame(y_new_pred, columns=['encoded'])\n",
    "mapping = {1:'F', 2:'D', 3:'C', 4:'B', 5:'A', 6:'S'}\n",
    "y_new_pred['label_decoded'] = y_new_pred['encoded'].map(mapping)\n",
    "y_new_pred"
   ]
  },
  {
   "cell_type": "code",
   "execution_count": 396,
   "id": "18934e6d",
   "metadata": {},
   "outputs": [
    {
     "data": {
      "text/html": [
       "<div>\n",
       "<style scoped>\n",
       "    .dataframe tbody tr th:only-of-type {\n",
       "        vertical-align: middle;\n",
       "    }\n",
       "\n",
       "    .dataframe tbody tr th {\n",
       "        vertical-align: top;\n",
       "    }\n",
       "\n",
       "    .dataframe thead th {\n",
       "        text-align: right;\n",
       "    }\n",
       "</style>\n",
       "<table border=\"1\" class=\"dataframe\">\n",
       "  <thead>\n",
       "    <tr style=\"text-align: right;\">\n",
       "      <th></th>\n",
       "      <th>encoded</th>\n",
       "      <th>label_decoded</th>\n",
       "    </tr>\n",
       "  </thead>\n",
       "  <tbody>\n",
       "    <tr>\n",
       "      <th>0</th>\n",
       "      <td>5</td>\n",
       "      <td>A</td>\n",
       "    </tr>\n",
       "    <tr>\n",
       "      <th>1</th>\n",
       "      <td>5</td>\n",
       "      <td>A</td>\n",
       "    </tr>\n",
       "    <tr>\n",
       "      <th>2</th>\n",
       "      <td>4</td>\n",
       "      <td>B</td>\n",
       "    </tr>\n",
       "    <tr>\n",
       "      <th>3</th>\n",
       "      <td>4</td>\n",
       "      <td>B</td>\n",
       "    </tr>\n",
       "    <tr>\n",
       "      <th>4</th>\n",
       "      <td>4</td>\n",
       "      <td>B</td>\n",
       "    </tr>\n",
       "  </tbody>\n",
       "</table>\n",
       "</div>"
      ],
      "text/plain": [
       "   encoded label_decoded\n",
       "0        5             A\n",
       "1        5             A\n",
       "2        4             B\n",
       "3        4             B\n",
       "4        4             B"
      ]
     },
     "execution_count": 396,
     "metadata": {},
     "output_type": "execute_result"
    }
   ],
   "source": [
    "y_new_pred = rf.predict(X_new)\n",
    "y_new_pred = pd.DataFrame(y_new_pred, columns=['encoded'])\n",
    "mapping = {1:'F', 2:'D', 3:'C', 4:'B', 5:'A', 6:'S'}\n",
    "y_new_pred['label_decoded'] = y_new_pred['encoded'].map(mapping)\n",
    "y_new_pred"
   ]
  },
  {
   "cell_type": "code",
   "execution_count": 397,
   "id": "020c8976",
   "metadata": {},
   "outputs": [
    {
     "data": {
      "text/html": [
       "<div>\n",
       "<style scoped>\n",
       "    .dataframe tbody tr th:only-of-type {\n",
       "        vertical-align: middle;\n",
       "    }\n",
       "\n",
       "    .dataframe tbody tr th {\n",
       "        vertical-align: top;\n",
       "    }\n",
       "\n",
       "    .dataframe thead th {\n",
       "        text-align: right;\n",
       "    }\n",
       "</style>\n",
       "<table border=\"1\" class=\"dataframe\">\n",
       "  <thead>\n",
       "    <tr style=\"text-align: right;\">\n",
       "      <th></th>\n",
       "      <th>encoded</th>\n",
       "      <th>label_decoded</th>\n",
       "    </tr>\n",
       "  </thead>\n",
       "  <tbody>\n",
       "    <tr>\n",
       "      <th>0</th>\n",
       "      <td>6</td>\n",
       "      <td>S</td>\n",
       "    </tr>\n",
       "    <tr>\n",
       "      <th>1</th>\n",
       "      <td>6</td>\n",
       "      <td>S</td>\n",
       "    </tr>\n",
       "    <tr>\n",
       "      <th>2</th>\n",
       "      <td>4</td>\n",
       "      <td>B</td>\n",
       "    </tr>\n",
       "    <tr>\n",
       "      <th>3</th>\n",
       "      <td>4</td>\n",
       "      <td>B</td>\n",
       "    </tr>\n",
       "    <tr>\n",
       "      <th>4</th>\n",
       "      <td>5</td>\n",
       "      <td>A</td>\n",
       "    </tr>\n",
       "  </tbody>\n",
       "</table>\n",
       "</div>"
      ],
      "text/plain": [
       "   encoded label_decoded\n",
       "0        6             S\n",
       "1        6             S\n",
       "2        4             B\n",
       "3        4             B\n",
       "4        5             A"
      ]
     },
     "execution_count": 397,
     "metadata": {},
     "output_type": "execute_result"
    }
   ],
   "source": [
    "y_new_pred = mlp.predict(X_new)\n",
    "y_new_pred = pd.DataFrame(y_new_pred, columns=['encoded'])\n",
    "mapping = {1:'F', 2:'D', 3:'C', 4:'B', 5:'A', 6:'S'}\n",
    "y_new_pred['label_decoded'] = y_new_pred['encoded'].map(mapping)\n",
    "y_new_pred"
   ]
  }
 ],
 "metadata": {
  "kernelspec": {
   "display_name": "Python 3 (ipykernel)",
   "language": "python",
   "name": "python3"
  },
  "language_info": {
   "codemirror_mode": {
    "name": "ipython",
    "version": 3
   },
   "file_extension": ".py",
   "mimetype": "text/x-python",
   "name": "python",
   "nbconvert_exporter": "python",
   "pygments_lexer": "ipython3",
   "version": "3.9.13"
  }
 },
 "nbformat": 4,
 "nbformat_minor": 5
}
